{
 "cells": [
  {
   "cell_type": "code",
   "execution_count": 1,
   "metadata": {},
   "outputs": [],
   "source": [
    "# %config IPCompleter.greedy=True\n",
    "# import libraries\n",
    "# import pandas as pd\n",
    "from selenium import webdriver\n",
    "from bs4 import BeautifulSoup as bs\n",
    "# import requests\n",
    "# from lxml import html as lh\n",
    "# import traceback\n",
    "from selenium.webdriver.common.keys import Keys\n",
    "from selenium.webdriver.support import expected_conditions as EC\n",
    "from selenium.webdriver.common.by import By\n",
    "from selenium.webdriver.support.ui import WebDriverWait\n",
    "# from timeit import default_timer as timer"
   ]
  },
  {
   "cell_type": "markdown",
   "metadata": {},
   "source": [
    "### Settings for browser"
   ]
  },
  {
   "cell_type": "code",
   "execution_count": 2,
   "metadata": {},
   "outputs": [],
   "source": [
    "# create options object for chromium webdriver\n",
    "options = webdriver.ChromeOptions()\n",
    "# setup path for brave binary (executable file)\n",
    "options.binary_location = \"C:\\\\Program Files (x86)\\\\BraveSoftware\\\\Brave-Browser\\\\Application\\\\brave.exe\"\n",
    "# add extensions for brave to open new instance of browser with VPN extension activated\n",
    "# for this purpose I used extensions source code extractor on http://crxextractor.com/\n",
    "# using link of extension found in store\n",
    "options.add_extension(r\"extension_4_1_0_0.crx\")\n",
    "# start chrome maximized\n",
    "options.add_argument(\"start-maximized\")\n",
    "# downloaded chromium driver binaries and place it in project directory\n",
    "chrome_driver_binary = \"chromedriver.exe\""
   ]
  },
  {
   "cell_type": "markdown",
   "metadata": {},
   "source": [
    "### Chrome Driver"
   ]
  },
  {
   "cell_type": "code",
   "execution_count": 16,
   "metadata": {},
   "outputs": [],
   "source": [
    "# Chrome - controls browser\n",
    "driver = webdriver.Chrome(chrome_driver_binary, options=options)\n",
    "# choose which site you want to visit\n",
    "driver.get(\"https://www.otodom.pl/sprzedaz/mieszkanie/wroclaw/?search%5Bfilter_float_price_per_m%3Afrom%5D=1&search%5Bfilter_float_price%3Afrom%5D=1&search%5Border%5D=quality_score&search%5Bcity_id%5D=39&nrAdsPerPage=72\")\n",
    "# check if it open right site by site title\n",
    "assert \"Mieszkanie na sprzedaż w Wrocław, dolnośląskie - www.otodom.pl\" in driver.title"
   ]
  },
  {
   "cell_type": "markdown",
   "metadata": {},
   "source": [
    "#### Get page content and parse it with beautifulSoup"
   ]
  },
  {
   "cell_type": "code",
   "execution_count": 37,
   "metadata": {},
   "outputs": [],
   "source": [
    "# attributes to collect\n",
    "offer_id = set()\n",
    "offer_district = []\n",
    "offer_price = []\n",
    "offer_price_per_m2 = []\n",
    "offer_room_number = []\n",
    "offer_flat_surface_m2 = []\n",
    "\n",
    "offer_floor = []\n",
    "offer_floor_number = []\n",
    "offer_prod_year = []\n",
    "offer_rent = []\n",
    "offer_market = []\n",
    "offer_building_type = []\n",
    "offer_finish_condition = []\n"
   ]
  },
  {
   "cell_type": "code",
   "execution_count": 36,
   "metadata": {},
   "outputs": [],
   "source": [
    "# helpers\n",
    "current_page = 0\n",
    "page_number = 1\n",
    "doubled_offers = 0\n",
    "dont_get_building_type = 0\n",
    "offer_row = {}\n",
    "offer_overview_posibilities = [\"Piętro:\", \"Liczba pięter:\", \"Rok budowy:\", \"Czynsz:\", \"Rynek:\", \"Rodzaj zabudowy:\", \n",
    "                               \"Stan wykończenia:\"]"
   ]
  },
  {
   "cell_type": "code",
   "execution_count": null,
   "metadata": {},
   "outputs": [],
   "source": [
    "while current_page <= page_number:\n",
    "    # get full page source\n",
    "    content = driver.page_source\n",
    "    \n",
    "    # parse it with beautiflesoup\n",
    "    soup = bs(content)\n",
    "    \n",
    "    #iterate through all articles (offer details are in articles)\n",
    "    for offer_article in soup.find_all(\"article\"):\n",
    "        \n",
    "        # if article not in history then...\n",
    "        if offer_article[\"id\"] not in offer_id:   \n",
    "\n",
    "            # add offer id to history\n",
    "            offer_id.add(offer_article[\"id\"])\n",
    "            \n",
    "            # add offer price\n",
    "            price = offer_article.find('li', attrs={'class':'offer-item-price'})\n",
    "            offer_price.append(price)\n",
    "            \n",
    "            # add offer room number\n",
    "            room_number = offer_article.find('li', attrs={'class':'offer-item-rooms hidden-xs'})\n",
    "            offer_room_number.append(room_number)\n",
    "            \n",
    "            # add offer surface \n",
    "            flat_m2 = offer_article.find('li', attrs={'class':'hidden-xs offer-item-area'})\n",
    "            offer_flat_surface_m2.append(flat_m2)\n",
    "            \n",
    "            # add offer price per m2\n",
    "            price_per_m2 = offer_article.find('li', attrs={'class':'hidden-xs offer-item-price-per-m'})\n",
    "            offer_price_per_m2.append(price_per_m2)\n",
    "            \n",
    "            # add offer district\n",
    "            district = offer_article.find('p', attrs={\"class\":\"text-nowrap\"}).get_text()\n",
    "            offer_district.append(district)\n",
    "            \n",
    "            # open new tab process\n",
    "            # store current tab for return\n",
    "            main_window = driver.current_window_handle\n",
    "            \n",
    "            # get URL of \n",
    "            offer_details_link = soup.find(attrs={\"id\":offer_article[\"id\"]}).get(\"data-url\")\n",
    "\n",
    "            # open new tab and switch driver to it\n",
    "            driver.execute_script(\"window.open();\")\n",
    "            driver.switch_to.window(driver.window_handles[1])\n",
    "            \n",
    "            # set driver to get new offer details site\n",
    "            driver.get(offer_details_link)\n",
    "            \n",
    "            # collect data from offer details site           \n",
    "            # flat offer overview contains rest of attributes\n",
    "            WebDriverWait(driver, 30).until(EC.visibility_of_element_located((By.CLASS_NAME, \"css-dwmx8v-Fe\")))\n",
    "            \n",
    "            # flat offer building type\n",
    "#             build_type = driver.find_elements_by_xpath(\"//*[contains(text(), 'Rodzaj zabudowy:')]\")\n",
    "#             offer_building_type.append(build_type)\n",
    "\n",
    "            overview = driver.find_element_by_class_name(\"css-dwmx8v-Fe\")\n",
    "            details = overview.find_elements_by_tag_name(\"li\")\n",
    "            \n",
    "            overview_categories = [category.text for category in details]\n",
    "            print(overview_categories)\n",
    "            if offer_overview_posibilities[0] in overview_categories:\n",
    "                offer_floor.append()\n",
    "\n",
    "#             for li in details:\n",
    "#                 text = li.text\n",
    "# #                 print(text)\n",
    "#                 if offer_overview_posibilities[0] in text:\n",
    "#                     offer_floor.append(text)                    \n",
    "#                 elif offer_overview_posibilities[1] in text:\n",
    "#                     offer_floor_number.append(text)                    \n",
    "#                 elif offer_overview_posibilities[2] in text:\n",
    "#                     offer_prod_year.append(text)                    \n",
    "#                 elif offer_overview_posibilities[3] in text:\n",
    "#                     offer_rent.append(text)                    \n",
    "#                 elif offer_overview_posibilities[4] in text:\n",
    "#                     offer_market.append(text)                    \n",
    "#                 elif offer_overview_posibilities[5] in text:\n",
    "#                     offer_building_type.append(text)\n",
    "#                 elif offer_overview_posibilities[6] in text:\n",
    "#                     offer_finish_condition.append(text)\n",
    "#                 elif offer_overview_posibilities[7] in text:\n",
    "#                     offer_flat_surface_m2.append(text) \n",
    "#                 elif offer_overview_posibilities[8] in text:\n",
    "#                     offer_room_number.append(text)\n",
    "                \n",
    "                \n",
    "            # close tab\n",
    "            driver.close()\n",
    "\n",
    "            # back to the main window\n",
    "            driver.switch_to.window(main_window)\n",
    "        else:\n",
    "            doubled_offers += 1\n",
    "            print(f\"Number of doubled offers: {doubled_offers}\")\n",
    "            \n",
    "    current_page += 1"
   ]
  },
  {
   "cell_type": "code",
   "execution_count": 53,
   "metadata": {
    "scrolled": true
   },
   "outputs": [
    {
     "data": {
      "text/plain": [
       "['Stan wykończenia: do zamieszkania']"
      ]
     },
     "execution_count": 53,
     "metadata": {},
     "output_type": "execute_result"
    }
   ],
   "source": [
    "test = ['Powierzchnia: 82 m²', 'Liczba pokoi: 4', 'Rynek: wtórny', 'Rodzaj zabudowy: apartamentowiec', \n",
    "        'Piętro: parter', 'Liczba pięter: 3', 'Materiał budynku: keramzyt', 'Okna: drewniane', 'Ogrzewanie: kotłownia', \n",
    "        'Rok budowy: 2015', 'Stan wykończenia: do zamieszkania', 'Czynsz: 680 zł', 'Forma własności: pełna własność']\n",
    "\n",
    "indices = [s for i, s in enumerate(test) if offer_overview_posibilities[6] in s]\n",
    "indices\n",
    "# x = driver.find_element_by_partial_link_text(offer_overview_posibilities[1])\n",
    "# x\n",
    "# offer_building_type\n",
    "# offer_district"
   ]
  },
  {
   "cell_type": "code",
   "execution_count": 39,
   "metadata": {},
   "outputs": [
    {
     "name": "stdout",
     "output_type": "stream",
     "text": [
      "id:  4\n",
      "distric:  4\n",
      "price:  4\n",
      "price per m2:  4\n",
      "floor:  0\n",
      "floor number:  0\n",
      "prod year:  0\n",
      "rent:  0\n",
      "market:  0\n",
      "build type:  0\n",
      "finish cond:  0\n",
      "flat surface:  4\n",
      "room number:  4\n"
     ]
    }
   ],
   "source": [
    "print(\"id: \",len(offer_id))\n",
    "print(\"distric: \",len(offer_district))\n",
    "print(\"price: \",len(offer_price))\n",
    "print(\"price per m2: \",len(offer_price_per_m2))\n",
    "print(\"floor: \",len(offer_floor))\n",
    "print(\"floor number: \",len(offer_floor_number))\n",
    "print(\"prod year: \",len(offer_prod_year))\n",
    "print(\"rent: \",len(offer_rent))\n",
    "print(\"market: \",len(offer_market))\n",
    "print(\"build type: \",len(offer_building_type))\n",
    "print(\"finish cond: \",len(offer_finish_condition))\n",
    "print(\"flat surface: \",len(offer_flat_surface_m2))\n",
    "print(\"room number: \",len(offer_room_number))\n",
    "# offer_row = {\"id\":offer_id,\"district\":offer_district,\"price\":offer_price,\"price_per_m2\":offer_price_per_m2,\n",
    "#              \"floor\":offer_floor,\"floor_number\":offer_floor_number,\"prod_year\":offer_prod_year,\"rent\":offer_rent,\n",
    "#             \"market\":offer_market,\"building_type\":offer_building_type,\"finish_condition\":offer_finish_condition,\n",
    "#             \"flat_surface_m2\":offer_flat_surface_m2,\"room_number\":offer_room_number}\n",
    "\n",
    "# df = pd.DataFrame(offer_row)\n",
    "# df.head()\n"
   ]
  },
  {
   "cell_type": "code",
   "execution_count": null,
   "metadata": {},
   "outputs": [],
   "source": [
    "offer_districts_examples = {\"Stare Miasto\":[\"Szczepin\", \n",
    "                                            \"Stare Miasto\", \n",
    "                                            \"Przedmieście Świdnickie\"], \n",
    "                            \"Psie Pole\":[\"Karłowice - Różanka\", \n",
    "                                         \"Osobowice - Rędzin\", \n",
    "                                         \"Lipa Piotrowska\", \n",
    "                                         \"Świniary\", \n",
    "                                         \"Widawa\", \n",
    "                                         \"Polanowice - Poświętne - Ligota\",\n",
    "                                         \"Sołtysowice\", \n",
    "                                         \"Kowale\", \n",
    "                                         \"Strachocin - Swojczyce - Wojnów\", \n",
    "                                         \"Psie Pole - Zawidawie\", \n",
    "                                         \"Pawłowice\"], \n",
    "                            \"Krzyki\":[\"Powstańców Śląskich\", \n",
    "                                      \"Huby\", \n",
    "                                      \"Tarnogaj\", \n",
    "                                      \"Przedmieście Oławskie\", \n",
    "                                      \"Księże\", \n",
    "                                      \"Brochów\",\n",
    "                                      \"Bieńkowice\", \n",
    "                                      \"Gaj\", \n",
    "                                      \"Borek\", \n",
    "                                      \"Klecina\", \n",
    "                                      \"Krzyki - Partynice\", \n",
    "                                      \"Jagodno\", \n",
    "                                      \"Wojszyce\", \n",
    "                                      \"Ołtaszyn\"], \n",
    "                            \"Fabryczna\":[\"Pracze Odrzańskie\", \n",
    "                                         \"Leśnica\", \n",
    "                                         \"Jerzmanowo - Jarnołtów - Strachowice - Osiniec\", \n",
    "                                         \"Maślice\", \n",
    "                                         \"Żerniki\", \n",
    "                                         \"Pilczyce - Kozanów - Popowice Płn.\", \n",
    "                                         \"Gądów - Popowice Płd.\", \n",
    "                                         \"Kuźniki\", \n",
    "                                         \"Nowy Dwór\", \n",
    "                                         \"Muchobór Wielki\", \n",
    "                                         \"Muchobór Mały\", \n",
    "                                         \"Gajowice\", \n",
    "                                         \"Grabiszyn - Grabiszynek\", \n",
    "                                         \"Oporów\"], \n",
    "                            \"Śródmieście\":[\"Kleczków\", \n",
    "                                           \"Nadodrze\", \n",
    "                                           \"Ołbin\", \n",
    "                                           \"Plac Grunwaldzki\", \n",
    "                                           \"Zacisze - Zalesie - Szczytniki\", \n",
    "                                           \"Biskupin - Sępolno - Dąbie - Bartoszowice\"]}\n"
   ]
  },
  {
   "cell_type": "markdown",
   "metadata": {},
   "source": [
    "##### Raw data is in html format, need to get raw text from tag then strip text and remove \"zł\" from data"
   ]
  },
  {
   "cell_type": "code",
   "execution_count": null,
   "metadata": {},
   "outputs": [],
   "source": [
    "start = timer()\n",
    "\n",
    "offer_price = []\n",
    "offer_id = set()\n",
    "offer_room_number = []\n",
    "offer_flat_sqm = []\n",
    "offer_price_for_sqm = []\n",
    "offer_floor = []\n",
    "offer_floor_number = []\n",
    "offer_prod_year = []\n",
    "offer_rent = []\n",
    "offer_market = []\n",
    "offer_building_type = []\n",
    "offer_finish_condition = []\n",
    "offer_district = []\n",
    "\n",
    "offer_id_link = {}\n",
    "offer_overview_posibilities = [\"Piętro:\", \"Liczba pięter:\", \"Rok budowy:\", \"Czynsz:\", \"Rynek:\", \"Rodzaj zabudowy:\", \n",
    "                               \"Stan wykończenia:\"]\n",
    "current_page = 0\n",
    "page_number = 10\n",
    "\n",
    "while current_page <= page_number:\n",
    "    content = driver.page_source\n",
    "    soup = bs(content)\n",
    "#     driver.implicitly_wait(15)\n",
    "    for article in soup.find_all(\"article\"):\n",
    "        article_list = []\n",
    "        if article['id'] not in article_list:\n",
    "            article_id = article['id']\n",
    "            article_list.append(article_id)\n",
    "            price = article.find('li', attrs={'class':'offer-item-price'})\n",
    "            room_number = article.find('li', attrs={'class':'offer-item-rooms hidden-xs'})\n",
    "            flat_sqm = article.find('li', attrs={'class':'hidden-xs offer-item-area'})\n",
    "            price_for_sqm = article.find('li', attrs={'class':'hidden-xs offer-item-price-per-m'})\n",
    "\n",
    "            offer_id.add(article_id)\n",
    "            offer_price.append(price.get_text())\n",
    "            offer_room_number.append(room_number.get_text())\n",
    "            offer_flat_sqm.append(flat_sqm.get_text())\n",
    "            offer_price_for_sqm.append(price_for_sqm.get_text())\n",
    "\n",
    "            # open ofert in new tag\n",
    "            main_window = driver.current_window_handle\n",
    "            # get url of offer\n",
    "            get_article_tag = driver.find_element_by_id(article_id)\n",
    "            offer_url = get_article_tag.get_attribute(\"data-url\")\n",
    "\n",
    "            offer_id_link[article_id] = offer_url\n",
    "\n",
    "#             # open new tab and switch driver to it\n",
    "#             driver.execute_script(\"window.open();\")\n",
    "#             driver.switch_to.window(driver.window_handles[1])\n",
    "#             # get site\n",
    "#             driver.get(offer_url)\n",
    "#             print('dada')\n",
    "#             driver.implicitly_wait(15)\n",
    "#             # get district names\n",
    "#             try:\n",
    "#                 distric_find = driver.find_element_by_class_name(\"css-12hd9gg\")\n",
    "#                 offer_district.append(distric_find.text)\n",
    "#             except:\n",
    "#                 print(\"Couldn't find district\")\n",
    "#             driver.implicitly_wait(25)\n",
    "# #             try:\n",
    "#             offer_overview = driver.find_element_by_class_name(\"section-overview\")\n",
    "#             offer_details = offer_overview.find_elements_by_tag_name(\"li\")\n",
    "# #             print(\"Found\")\n",
    "#             for elem in offer_details:\n",
    "#                 text = elem.text\n",
    "# #                         print(text)\n",
    "#                 if offer_overview_posibilities[0] in text:\n",
    "#                     offer_floor.append(text)\n",
    "#                 if offer_overview_posibilities[1] in text:\n",
    "#                     offer_floor_number.append(text)\n",
    "#                 if offer_overview_posibilities[2] in text:\n",
    "#                     offer_prod_year.append(text)\n",
    "#                 if offer_overview_posibilities[3] in text:\n",
    "#                     offer_rent.append(text)\n",
    "#                 if offer_overview_posibilities[4] in text:\n",
    "#                     offer_market.append(text)\n",
    "#                 if offer_overview_posibilities[5] in text:\n",
    "#                     offer_building_type.append(text)\n",
    "#                 if offer_overview_posibilities[6] in text:\n",
    "#                     offer_finish_condition.append(text)\n",
    "# #             except:\n",
    "# #                 print(\"Coudn't find\")\n",
    "\n",
    "#             driver.close()\n",
    "\n",
    "#             # back to the main window\n",
    "#             driver.switch_to.window(main_window)\n",
    "        else:\n",
    "            print('Oferta powtórzona')\n",
    "    \n",
    "#     driver.implicitly_wait(15)\n",
    "\n",
    "    WebDriverWait(driver, 30).until(EC.visibility_of_element_located((By.CLASS_NAME, 'pager-next'))).click()\n",
    "    current_page += 1\n",
    "\n",
    "end = timer()\n",
    "print(end - start)"
   ]
  },
  {
   "cell_type": "code",
   "execution_count": null,
   "metadata": {
    "scrolled": true
   },
   "outputs": [],
   "source": [
    "# offer_price.append(price.get_text().replace(\"zł\",'').replace(\" \",\"\").strip())\n",
    "# cena = int(offer_price[1])\n",
    "# cena2 = int(offer_price[2])\n",
    "# cena+cena2\n",
    "# print(offer_id)\n",
    "# print((offer_price))\n",
    "# print(offer_room_number)\n",
    "# print(offer_flat_sqm)\n",
    "# print(offer_price_for_sqm)\n",
    "# len(offer_price)\n",
    "# len(offer_id)\n",
    "# counter\n",
    "# print(offer_id_link)\n",
    "# print(len(offer_district))\n",
    "# print((offer_building_type))\n",
    "# print(len(offer_floor_number))"
   ]
  },
  {
   "cell_type": "code",
   "execution_count": null,
   "metadata": {},
   "outputs": [],
   "source": [
    "# for i in range(3):\n",
    "#     WebDriverWait(driver,10).until(EC.presence_of_element_located(By.CLASS_NAME)).click()\n",
    "#     pager = driver.find_element_by_class_name('pager-next')\n",
    "#     a_tag_next_page = pager.find_element_by_tag_name('a')\n",
    "#     a_tag_next_page.click()\n",
    "#     print(a_tag_next_page)\n",
    "#     WebDriverWait(driver, 30).until(EC.element_to_be_clickable((By.XPATH, \"//form[@id='pagerForm']/ul/li[@class='pager-next']/a\"))).click()\n",
    "    "
   ]
  },
  {
   "cell_type": "markdown",
   "metadata": {},
   "source": [
    "## Scrap table data from gp-sms.pl\n",
    "### Based on article from https://towardsdatascience.com/web-scraping-html-tables-with-python-c9baba21059"
   ]
  },
  {
   "cell_type": "code",
   "execution_count": null,
   "metadata": {},
   "outputs": [],
   "source": [
    "options = webdriver.ChromeOptions()\n",
    "options.binary_location = \"C:/Program Files (x86)/BraveSoftware/Brave-Browser/Application/brave.exe\"\n",
    "chrome_driver_binary = \"chromedriver.exe\"\n",
    "driver = webdriver.Chrome(chrome_driver_binary, options=options)\n",
    "server_name = []\n",
    "gold_amount = []\n",
    "\n",
    "# elem = driver.find_element_by_class_name(\"table-gold-available\")\n",
    "driver.get(\"http://gp-sms.pl/\")\n",
    "content = driver.page_source\n",
    "soup = bs(content)\n",
    "doc = lh.fromstring(content)\n",
    "tr_elements = doc.xpath('//tr')\n",
    "#Create empty list\n",
    "col=[]\n",
    "\n",
    "#For each row, store each first element (header) and an empty list\n",
    "for t in tr_elements[0]:\n",
    "    name=t.text_content()\n",
    "    col.append((name,[]))\n",
    "\n",
    "#Since out first row is the header, data is stored on the second row onwards\n",
    "for j in range(1,len(tr_elements)):\n",
    "    #T is our j'th row\n",
    "    T=tr_elements[j]\n",
    "    \n",
    "    #i is the index of our column\n",
    "    i=0\n",
    "    \n",
    "    #Iterate through each element of the row\n",
    "    for t in T.iterchildren():\n",
    "        data=t.text_content() \n",
    "        #Check if row is empty\n",
    "        if i > 0:\n",
    "        #Convert any numerical value to integers\n",
    "            try:\n",
    "                data=int(data)\n",
    "            except:\n",
    "                pass\n",
    "        #Append the data to the empty list of the i'th column\n",
    "        col[i][1].append(data)\n",
    "        #Increment i for the next column\n",
    "        i+=1"
   ]
  },
  {
   "cell_type": "code",
   "execution_count": null,
   "metadata": {},
   "outputs": [],
   "source": [
    "Dict={title:column for (title,column) in col}\n",
    "df=pd.DataFrame(Dict)"
   ]
  },
  {
   "cell_type": "code",
   "execution_count": null,
   "metadata": {},
   "outputs": [],
   "source": [
    "df.to_excel('gold_amount_gp_sms_scrap2.xlsx', index=False, encoding='utf-8')"
   ]
  },
  {
   "cell_type": "code",
   "execution_count": null,
   "metadata": {},
   "outputs": [],
   "source": [
    "df.to_csv('gold_amount_gp_sms_scrap.csv', index=False, encoding='utf-8')"
   ]
  },
  {
   "cell_type": "code",
   "execution_count": null,
   "metadata": {},
   "outputs": [],
   "source": [
    "df = pd.read_excel(\"gold_amount_gp_sms_scrap.xlsx\", dtype={'Ilość CC': float})\n",
    "df.to_excel('gold_amount_gp_sms_scrap2.xlsx', index=False, encoding='utf-8')"
   ]
  },
  {
   "cell_type": "code",
   "execution_count": null,
   "metadata": {},
   "outputs": [],
   "source": [
    "df.head(100)"
   ]
  },
  {
   "cell_type": "markdown",
   "metadata": {},
   "source": [
    "## Tutorial from selenium docs on custom example"
   ]
  },
  {
   "cell_type": "code",
   "execution_count": null,
   "metadata": {},
   "outputs": [],
   "source": [
    "driver.get(\"http://gp-sms.pl/\")\n",
    "assert \"Tibia GP za SMS\" in driver.title\n",
    "elem = driver.find_element_by_id(\"searchbar-gold-available\")\n",
    "elem.clear()\n",
    "elem.send_keys(\"Harmonia\")\n",
    "elem.send_keys(Keys.RETURN)\n",
    "assert \"No results found.\" not in driver.page_source"
   ]
  },
  {
   "cell_type": "markdown",
   "metadata": {},
   "source": [
    "## Tutorial from https://selenium-python.readthedocs.io/"
   ]
  },
  {
   "cell_type": "code",
   "execution_count": null,
   "metadata": {},
   "outputs": [],
   "source": [
    "options = webdriver.ChromeOptions()\n",
    "options.binary_location = \"C:/Program Files (x86)/BraveSoftware/Brave-Browser/Application/brave.exe\"\n",
    "chrome_driver_binary = \"chromedriver.exe\"\n",
    "driver = webdriver.Chrome(chrome_driver_binary, options=options)\n",
    "driver.get(\"http://www.python.org\")\n",
    "assert \"Python\" in driver.title\n",
    "elem = driver.find_element_by_name(\"q\")\n",
    "elem.clear()\n",
    "elem.send_keys(\"dsafdaga\")\n",
    "elem.send_keys(Keys.RETURN)\n",
    "assert \"No results found.\" not in driver.page_source\n",
    "# driver.close()"
   ]
  }
 ],
 "metadata": {
  "kernelspec": {
   "display_name": "Python 3",
   "language": "python",
   "name": "python3"
  },
  "language_info": {
   "codemirror_mode": {
    "name": "ipython",
    "version": 3
   },
   "file_extension": ".py",
   "mimetype": "text/x-python",
   "name": "python",
   "nbconvert_exporter": "python",
   "pygments_lexer": "ipython3",
   "version": "3.7.4"
  }
 },
 "nbformat": 4,
 "nbformat_minor": 2
}
