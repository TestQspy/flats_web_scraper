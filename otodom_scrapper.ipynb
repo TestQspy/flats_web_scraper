{
 "cells": [
  {
   "cell_type": "code",
   "execution_count": 1,
   "metadata": {},
   "outputs": [],
   "source": [
    "import pandas as pd\n",
    "from selenium import webdriver\n",
    "from bs4 import BeautifulSoup as bs"
   ]
  },
  {
   "cell_type": "code",
   "execution_count": 4,
   "metadata": {},
   "outputs": [],
   "source": [
    "#połączenie się z przeglądarką Brave na silniku chromium\n",
    "options = webdriver.ChromeOptions()\n",
    "options.binary_location = \"C:/Program Files (x86)/BraveSoftware/Brave-Browser/Application/brave.exe\"\n",
    "chrome_driver_binary = \"chromedriver.exe\"\n",
    "driver = webdriver.Chrome(chrome_driver_binary, options=options)\n",
    "\n",
    "server_name = []\n",
    "gold_amount = []\n",
    "driver.get(\"http://gp-sms.pl/\")"
   ]
  }
 ],
 "metadata": {
  "kernelspec": {
   "display_name": "Python 3",
   "language": "python",
   "name": "python3"
  },
  "language_info": {
   "codemirror_mode": {
    "name": "ipython",
    "version": 3
   },
   "file_extension": ".py",
   "mimetype": "text/x-python",
   "name": "python",
   "nbconvert_exporter": "python",
   "pygments_lexer": "ipython3",
   "version": "3.7.4"
  }
 },
 "nbformat": 4,
 "nbformat_minor": 2
}
